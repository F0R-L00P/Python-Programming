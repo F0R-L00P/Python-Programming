{
 "cells": [
  {
   "cell_type": "markdown",
   "id": "ahead-nicaragua",
   "metadata": {},
   "source": [
    "### Getting Music Data using API's\n",
    "To access more complex APIs you need to understand some advanced concepts such as:\n",
    "\n",
    "* How to authenticate yourself with an API key.\n",
    "* How to use rate limiting and other techniques to work within the guidelines of an API.\n",
    "* How to use pagination to work with large responses.\n",
    "\n",
    "We’ll be working with the [Last.fm](https://www.last.fm/) API. They provide free access to their API so that music services can send them data, but also provide endpoints that summarize all the data Last.fm has on various artists, songs, and genres. \n",
    "\n",
    "lets building a dataset of popular artists using their API."
   ]
  },
  {
   "cell_type": "markdown",
   "id": "oriented-subcommittee",
   "metadata": {},
   "source": [
    "### API Guidelines\n",
    "Looking at the Introduction Page in the [API documentation](https://www.last.fm/api/intro), we can notice the following guidelines:\n",
    "\n",
    "* Please use an identifiable User-Agent header on all requests. This helps our logging and reduces the risk of you getting banned.\n",
    "\n",
    "Last.fm wants us to specify a user-agent in the header so they know who we are. \n",
    "\n",
    "* Use common sense when deciding how many calls to make. For example, if you’re making a web application, try not to hit the API on page load. Your account may be suspended if your application is continuously making several calls per second.\n",
    "\n",
    "We will use strategies for rate limiting, or making sure we don’t hit their API too much, so we can avoid getting banned."
   ]
  },
  {
   "attachments": {
    "image.png": {
     "image/png": "[encoded data removed]"
    }
   },
   "cell_type": "markdown",
   "id": "experimental-fault",
   "metadata": {},
   "source": [
    "### Authenticatiion and API Keys\n",
    "The majority of APIs require you to authenticate yourself so they know you have permission to use them. One of the most common forms of authentication is to use an API Key, which is like a password for using their API. If you don’t provide an API key when making a request, you will get an error.\n",
    "\n",
    "The process for using an API key works like this:\n",
    "1. You create an account with the provider of the API.\n",
    "2. You request an API key, which is usually a long string like 54686973206973206d7920415049204b6579.\n",
    "3. You record your API key somewhere safe. If someone gets your API key, they can use the API pretending to be you.\n",
    "4. Every time you make a request, you provide the API key to authenticate yourself.\n",
    "\n",
    "To get an API key for Last.fm, create an account. After you create your account, you can obtain your API information:\n",
    "\n",
    "![image.png](attachment:image.png)"
   ]
  },
  {
   "cell_type": "markdown",
   "id": "broke-occupation",
   "metadata": {},
   "source": [
    "### Making our first API request\n",
    "In order to create a dataset of popular artists, we’ll be working with the [chart.getTopArtists endpoint](https://www.last.fm/api/show/chart.getTopArtists).\n",
    "\n",
    "Looking at the documentation, we can see:\n",
    "\n",
    "* It looks like there is only one real endpoint, and each “endpoint” is actually specified by using the method parameter.\n",
    "* The API can return results in multiple formats – we’ll specify JSON so we can leverage what we already know about working with APIs in Python\n",
    "\n",
    "Remember that we need to provide a user-agent header to identify ourselves when we make a request. With the Python requests library, we specify headers using the [headers parameter](https://requests.readthedocs.io/en/master/user/quickstart/#custom-headers) with a dictionary of headers like so:"
   ]
  },
  {
   "cell_type": "code",
   "execution_count": 1,
   "id": "interior-sailing",
   "metadata": {},
   "outputs": [],
   "source": [
    "import requests\n",
    "\n",
    "# set header\n",
    "headers = {'user-agent': 'F0R-L00P'}\n",
    "\n",
    "#apply as parameter\n",
    "reponse = requests.get('http://my-api-url', headers=headers)"
   ]
  },
  {
   "cell_type": "markdown",
   "id": "established-christian",
   "metadata": {},
   "source": [
    "We’ll start by defining our API key and a user-agent."
   ]
  },
  {
   "cell_type": "code",
   "execution_count": 2,
   "id": "powerful-shock",
   "metadata": {},
   "outputs": [],
   "source": [
    "API_KEY = 'your API key'\n",
    "USER_AGENT = 'F0R-L00P'"
   ]
  },
  {
   "cell_type": "markdown",
   "id": "meaningful-membership",
   "metadata": {},
   "source": [
    "Import the requests library, create a dictionary for headers and parameters, and make our first request!"
   ]
  },
  {
   "cell_type": "code",
   "execution_count": 3,
   "id": "skilled-pattern",
   "metadata": {},
   "outputs": [
    {
     "data": {
      "text/plain": [
       "200"
      ]
     },
     "execution_count": 3,
     "metadata": {},
     "output_type": "execute_result"
    }
   ],
   "source": [
    "import requests\n",
    "\n",
    "headers = {'user-agent': USER_AGENT}\n",
    "\n",
    "payload = {'api_key': API_KEY,\n",
    "           'method': 'chart.gettopartists',\n",
    "           'format': 'json'}\n",
    "\n",
    "response = requests.get('http://ws.audioscrobbler.com/2.0/', headers=headers, params=payload)\n",
    "response.status_code"
   ]
  },
  {
   "cell_type": "markdown",
   "id": "annual-inspector",
   "metadata": {},
   "source": [
    "Our request returned a status code of ‘200’, so we know it was successful.\n",
    "\n",
    "Before we look at the data returned by our request, let’s think about the fact that we’re going to make many requests. In those requests, a lot of the functionality is going to be the same, such as:\n",
    "\n",
    "* using the same URL\n",
    "* using the same API key\n",
    "* specifying JSON as our format.\n",
    "* using the same headers.\n",
    "\n",
    "To save time lets define a function. giving it a payload dictionary, and then we’ll add extra keys to that dictionary and pass it with our other options to make the request.\n",
    "\n",
    "Let’s look at what that function looks like:"
   ]
  },
  {
   "cell_type": "code",
   "execution_count": 4,
   "id": "hidden-intranet",
   "metadata": {},
   "outputs": [],
   "source": [
    "def lastfm_get(payload):\n",
    "    # define headers and URL\n",
    "    headers = {'user-agent': USER_AGENT}\n",
    "    url = 'http://ws.audioscrobbler.com/2.0/'\n",
    "\n",
    "    # Add API key and format to the payload\n",
    "    payload['api_key'] = API_KEY\n",
    "    payload['format'] = 'json'\n",
    "\n",
    "    response = requests.get(url, headers=headers, params=payload)\n",
    "    \n",
    "    return response"
   ]
  },
  {
   "cell_type": "code",
   "execution_count": 5,
   "id": "modern-insulin",
   "metadata": {},
   "outputs": [
    {
     "data": {
      "text/plain": [
       "200"
      ]
     },
     "execution_count": 5,
     "metadata": {},
     "output_type": "execute_result"
    }
   ],
   "source": [
    "response = lastfm_get({'method': 'chart.gettopartists'})\n",
    "\n",
    "response.status_code"
   ]
  },
  {
   "cell_type": "markdown",
   "id": "hybrid-integral",
   "metadata": {},
   "source": [
    "Lets check the output JSON file"
   ]
  },
  {
   "cell_type": "code",
   "execution_count": 6,
   "id": "straight-appliance",
   "metadata": {},
   "outputs": [],
   "source": [
    "import json\n",
    "\n",
    "def jprint(obj):\n",
    "    # create a formatted string of the Python JSON object\n",
    "    text = json.dumps(obj, sort_keys=True, indent=4)\n",
    "    print(text)\n",
    "\n",
    "jprint(response.json())"
   ]
  },
  {
   "cell_type": "markdown",
   "id": "adolescent-custom",
   "metadata": {},
   "source": [
    "### Data Structure and Access\n",
    "The structure of the JSON response is a dictionary with a single artists key, containing:\n",
    "* an @attr key containing a number of attributes about the response.\n",
    "* an artist key containing a list of artist objects.\n",
    "\n",
    "Let’s look at the '@attr' (attributes) key by itself:"
   ]
  },
  {
   "cell_type": "code",
   "execution_count": 7,
   "id": "ready-multiple",
   "metadata": {},
   "outputs": [
    {
     "name": "stdout",
     "output_type": "stream",
     "text": [
      "{\n",
      "    \"page\": \"1\",\n",
      "    \"perPage\": \"50\",\n",
      "    \"total\": \"3904974\",\n",
      "    \"totalPages\": \"78100\"\n",
      "}\n"
     ]
    }
   ],
   "source": [
    "jprint(response.json()['artists']['@attr'])"
   ]
  },
  {
   "cell_type": "markdown",
   "id": "aggressive-nurse",
   "metadata": {},
   "source": [
    "### Working with Paginated Data\n",
    "In order to build a dataset with many artists, we need to make an API request for each page (78k total) and then put them together. We can control the pagination of our results using two optional parameters specified in the documentation:\n",
    "\n",
    "limit: The number of results to fetch per page (defaults to 50).\n",
    "page: Which page of the results we want to fetch.\n",
    "Because the '@attrs' key gives us the total number of pages, we can use a while loop and iterate over pages until the page number is equal to the last page number.\n",
    "\n",
    "We can also use the limit parameter to fetch more results in each page — we’ll fetch 500 results per page so we only need to make ~6,000 calls instead of ~60,000.\n",
    "\n",
    "Let’s look at an example of how we would structure that code:"
   ]
  },
  {
   "cell_type": "code",
   "execution_count": 8,
   "id": "front-spanish",
   "metadata": {},
   "outputs": [],
   "source": [
    "# initialize list for results\n",
    "results = []\n",
    "\n",
    "# set initial page and a high total number\n",
    "page = 1\n",
    "total_pages = 99999\n",
    "\n",
    "\n",
    "while page > total_pages:\n",
    "    # simplified request code for this example\n",
    "    response = request.get(\"endpoint_url\", params={\"page\": page})\n",
    "\n",
    "    # append results to list\n",
    "    results.append(response.json())\n",
    "\n",
    "    # increment page\n",
    "    page += 1"
   ]
  },
  {
   "cell_type": "markdown",
   "id": "bizarre-appeal",
   "metadata": {},
   "source": [
    "### Rate Limiting with Time\n",
    "Rate limiting is using code to limit the number of times per second that we hit a particular API. Rate limiting will make your code slower, but it’s better than getting banned from using an API altogether.\n",
    "\n",
    "The easiest way to perform rate limiting is to use Python [time.sleep() function](https://docs.python.org/3/library/time.html#time.sleep). \n",
    "\n",
    "Example:"
   ]
  },
  {
   "attachments": {
    "image-2.png": {
     "image/png": "[encoded data removed]"
    }
   },
   "cell_type": "markdown",
   "id": "awful-strand",
   "metadata": {},
   "source": [
    "### Rate Limiting with Database\n",
    "Another technique that’s useful for rate limiting is using a local database to cache the results of any API call, so that if we make the same call twice, the second time it reads it from the local cache. \n",
    "\n",
    "Imagine that as you are writing your code, you discover syntax errors and your loop fails, and you have to start again. By using a local cache, you have two benefits:\n",
    "\n",
    "1. You don’t make extra API calls that you don’t need to.\n",
    "2. You don’t need to wait the extra time to rate limit when reading the repeated calls from the cache.\n",
    "\n",
    "The logic that we could use to combine waiting with a cache looks like the below:\n",
    "\n",
    "![image-2.png](attachment:image-2.png)\n",
    "\n",
    " There’s a great library called [requests-cache](https://requests-cache.readthedocs.io/en/latest/) which will do all of the work for you with only a couple of lines of code."
   ]
  },
  {
   "cell_type": "code",
   "execution_count": 9,
   "id": "downtown-wound",
   "metadata": {},
   "outputs": [],
   "source": [
    "import requests_cache\n",
    "\n",
    "requests_cache.install_cache()"
   ]
  },
  {
   "cell_type": "code",
   "execution_count": 10,
   "id": "dutch-sunset",
   "metadata": {},
   "outputs": [
    {
     "name": "stdout",
     "output_type": "stream",
     "text": [
      "Requesting page 7810/7810\n"
     ]
    }
   ],
   "source": [
    "import time\n",
    "from IPython.core.display import clear_output\n",
    "\n",
    "responses = []\n",
    "\n",
    "page = 1\n",
    "total_pages = 99999 # this is just a dummy number so the loop starts\n",
    "\n",
    "while page <= total_pages:\n",
    "    payload = {'method': 'chart.gettopartists',\n",
    "               'limit': 500,\n",
    "               'page': page}\n",
    "\n",
    "    # print some output so we can see the status\n",
    "    print(\"Requesting page {}/{}\".format(page, total_pages))\n",
    "    # clear the output to make things neater\n",
    "    clear_output(wait = True)\n",
    "\n",
    "    # make the API call\n",
    "    response = lastfm_get(payload)\n",
    "\n",
    "    # if we get an error, print the response and halt the loop\n",
    "    if response.status_code != 200:\n",
    "        print(response.text)\n",
    "        break\n",
    "\n",
    "    # extract pagination info\n",
    "    page = int(response.json()['artists']['@attr']['page'])\n",
    "    total_pages = int(response.json()['artists']['@attr']['totalPages'])\n",
    "\n",
    "    # append response\n",
    "    responses.append(response)\n",
    "\n",
    "    # if it's not a cached result, sleep\n",
    "    if not getattr(response, 'from_cache', False):\n",
    "        time.sleep(0.25)\n",
    "\n",
    "    # increment the page number\n",
    "    page += 1"
   ]
  },
  {
   "cell_type": "code",
   "execution_count": 11,
   "id": "valid-netherlands",
   "metadata": {},
   "outputs": [
    {
     "data": {
      "text/html": [
       "<div>\n",
       "<style scoped>\n",
       "    .dataframe tbody tr th:only-of-type {\n",
       "        vertical-align: middle;\n",
       "    }\n",
       "\n",
       "    .dataframe tbody tr th {\n",
       "        vertical-align: top;\n",
       "    }\n",
       "\n",
       "    .dataframe thead th {\n",
       "        text-align: right;\n",
       "    }\n",
       "</style>\n",
       "<table border=\"1\" class=\"dataframe\">\n",
       "  <thead>\n",
       "    <tr style=\"text-align: right;\">\n",
       "      <th></th>\n",
       "      <th>name</th>\n",
       "      <th>playcount</th>\n",
       "      <th>listeners</th>\n",
       "      <th>mbid</th>\n",
       "      <th>url</th>\n",
       "      <th>streamable</th>\n",
       "      <th>image</th>\n",
       "    </tr>\n",
       "  </thead>\n",
       "  <tbody>\n",
       "    <tr>\n",
       "      <th>0</th>\n",
       "      <td>The Weeknd</td>\n",
       "      <td>153634045</td>\n",
       "      <td>1824106</td>\n",
       "      <td>c8b03190-306c-4120-bb0b-6f2ebfc06ea9</td>\n",
       "      <td>https://www.last.fm/music/The+Weeknd</td>\n",
       "      <td>0</td>\n",
       "      <td>[{'#text': 'https://lastfm.freetls.fastly.net/...</td>\n",
       "    </tr>\n",
       "    <tr>\n",
       "      <th>1</th>\n",
       "      <td>Ariana Grande</td>\n",
       "      <td>216988104</td>\n",
       "      <td>1582351</td>\n",
       "      <td>f4fdbb4c-e4b7-47a0-b83b-d91bbfcfa387</td>\n",
       "      <td>https://www.last.fm/music/Ariana+Grande</td>\n",
       "      <td>0</td>\n",
       "      <td>[{'#text': 'https://lastfm.freetls.fastly.net/...</td>\n",
       "    </tr>\n",
       "    <tr>\n",
       "      <th>2</th>\n",
       "      <td>Billie Eilish</td>\n",
       "      <td>84538250</td>\n",
       "      <td>1053946</td>\n",
       "      <td></td>\n",
       "      <td>https://www.last.fm/music/Billie+Eilish</td>\n",
       "      <td>0</td>\n",
       "      <td>[{'#text': 'https://lastfm.freetls.fastly.net/...</td>\n",
       "    </tr>\n",
       "    <tr>\n",
       "      <th>3</th>\n",
       "      <td>Taylor Swift</td>\n",
       "      <td>355213822</td>\n",
       "      <td>2679563</td>\n",
       "      <td>20244d07-534f-4eff-b4d4-930878889970</td>\n",
       "      <td>https://www.last.fm/music/Taylor+Swift</td>\n",
       "      <td>0</td>\n",
       "      <td>[{'#text': 'https://lastfm.freetls.fastly.net/...</td>\n",
       "    </tr>\n",
       "    <tr>\n",
       "      <th>4</th>\n",
       "      <td>Kanye West</td>\n",
       "      <td>334682735</td>\n",
       "      <td>4797370</td>\n",
       "      <td>164f0d73-1234-4e2c-8743-d77bf2191051</td>\n",
       "      <td>https://www.last.fm/music/Kanye+West</td>\n",
       "      <td>0</td>\n",
       "      <td>[{'#text': 'https://lastfm.freetls.fastly.net/...</td>\n",
       "    </tr>\n",
       "  </tbody>\n",
       "</table>\n",
       "</div>"
      ],
      "text/plain": [
       "            name  playcount listeners                                  mbid  \\\n",
       "0     The Weeknd  153634045   1824106  c8b03190-306c-4120-bb0b-6f2ebfc06ea9   \n",
       "1  Ariana Grande  216988104   1582351  f4fdbb4c-e4b7-47a0-b83b-d91bbfcfa387   \n",
       "2  Billie Eilish   84538250   1053946                                         \n",
       "3   Taylor Swift  355213822   2679563  20244d07-534f-4eff-b4d4-930878889970   \n",
       "4     Kanye West  334682735   4797370  164f0d73-1234-4e2c-8743-d77bf2191051   \n",
       "\n",
       "                                       url streamable  \\\n",
       "0     https://www.last.fm/music/The+Weeknd          0   \n",
       "1  https://www.last.fm/music/Ariana+Grande          0   \n",
       "2  https://www.last.fm/music/Billie+Eilish          0   \n",
       "3   https://www.last.fm/music/Taylor+Swift          0   \n",
       "4     https://www.last.fm/music/Kanye+West          0   \n",
       "\n",
       "                                               image  \n",
       "0  [{'#text': 'https://lastfm.freetls.fastly.net/...  \n",
       "1  [{'#text': 'https://lastfm.freetls.fastly.net/...  \n",
       "2  [{'#text': 'https://lastfm.freetls.fastly.net/...  \n",
       "3  [{'#text': 'https://lastfm.freetls.fastly.net/...  \n",
       "4  [{'#text': 'https://lastfm.freetls.fastly.net/...  "
      ]
     },
     "execution_count": 11,
     "metadata": {},
     "output_type": "execute_result"
    }
   ],
   "source": [
    "import pandas as pd\n",
    "\n",
    "# get first element json file\n",
    "first_page = responses[0].json()\n",
    "# access list\n",
    "first_page_artists = first_page['artists']['artist']\n",
    "# write to dataframe\n",
    "df = pd.DataFrame(first_page_artists)\n",
    "# inspect head\n",
    "df.head()"
   ]
  },
  {
   "attachments": {
    "image-3.png": {
     "image/png": "[encoded data removed]"
    }
   },
   "cell_type": "markdown",
   "id": "romance-increase",
   "metadata": {},
   "source": [
    "### DataFrame Concatenation\n",
    "We can use list comprehension, or a F0R-L00P, to perform this operation on each response from responses, giving us a list of dataframes, and then use the [pandas.concat() function](https://pandas.pydata.org/pandas-docs/stable/reference/api/pandas.concat.html) to turn the list of dataframes into a single dataframe.\n",
    "\n",
    "![image-3.png](attachment:image-3.png)"
   ]
  },
  {
   "cell_type": "code",
   "execution_count": 12,
   "id": "lesser-committee",
   "metadata": {},
   "outputs": [
    {
     "data": {
      "text/html": [
       "<div>\n",
       "<style scoped>\n",
       "    .dataframe tbody tr th:only-of-type {\n",
       "        vertical-align: middle;\n",
       "    }\n",
       "\n",
       "    .dataframe tbody tr th {\n",
       "        vertical-align: top;\n",
       "    }\n",
       "\n",
       "    .dataframe thead th {\n",
       "        text-align: right;\n",
       "    }\n",
       "</style>\n",
       "<table border=\"1\" class=\"dataframe\">\n",
       "  <thead>\n",
       "    <tr style=\"text-align: right;\">\n",
       "      <th></th>\n",
       "      <th>name</th>\n",
       "      <th>playcount</th>\n",
       "      <th>listeners</th>\n",
       "      <th>mbid</th>\n",
       "      <th>url</th>\n",
       "      <th>streamable</th>\n",
       "      <th>image</th>\n",
       "    </tr>\n",
       "  </thead>\n",
       "  <tbody>\n",
       "    <tr>\n",
       "      <th>0</th>\n",
       "      <td>The Weeknd</td>\n",
       "      <td>153634045</td>\n",
       "      <td>1824106</td>\n",
       "      <td>c8b03190-306c-4120-bb0b-6f2ebfc06ea9</td>\n",
       "      <td>https://www.last.fm/music/The+Weeknd</td>\n",
       "      <td>0</td>\n",
       "      <td>[{'#text': 'https://lastfm.freetls.fastly.net/...</td>\n",
       "    </tr>\n",
       "    <tr>\n",
       "      <th>1</th>\n",
       "      <td>Ariana Grande</td>\n",
       "      <td>216988104</td>\n",
       "      <td>1582351</td>\n",
       "      <td>f4fdbb4c-e4b7-47a0-b83b-d91bbfcfa387</td>\n",
       "      <td>https://www.last.fm/music/Ariana+Grande</td>\n",
       "      <td>0</td>\n",
       "      <td>[{'#text': 'https://lastfm.freetls.fastly.net/...</td>\n",
       "    </tr>\n",
       "    <tr>\n",
       "      <th>2</th>\n",
       "      <td>Billie Eilish</td>\n",
       "      <td>84538250</td>\n",
       "      <td>1053946</td>\n",
       "      <td></td>\n",
       "      <td>https://www.last.fm/music/Billie+Eilish</td>\n",
       "      <td>0</td>\n",
       "      <td>[{'#text': 'https://lastfm.freetls.fastly.net/...</td>\n",
       "    </tr>\n",
       "    <tr>\n",
       "      <th>3</th>\n",
       "      <td>Taylor Swift</td>\n",
       "      <td>355213822</td>\n",
       "      <td>2679563</td>\n",
       "      <td>20244d07-534f-4eff-b4d4-930878889970</td>\n",
       "      <td>https://www.last.fm/music/Taylor+Swift</td>\n",
       "      <td>0</td>\n",
       "      <td>[{'#text': 'https://lastfm.freetls.fastly.net/...</td>\n",
       "    </tr>\n",
       "    <tr>\n",
       "      <th>4</th>\n",
       "      <td>Kanye West</td>\n",
       "      <td>334682735</td>\n",
       "      <td>4797370</td>\n",
       "      <td>164f0d73-1234-4e2c-8743-d77bf2191051</td>\n",
       "      <td>https://www.last.fm/music/Kanye+West</td>\n",
       "      <td>0</td>\n",
       "      <td>[{'#text': 'https://lastfm.freetls.fastly.net/...</td>\n",
       "    </tr>\n",
       "  </tbody>\n",
       "</table>\n",
       "</div>"
      ],
      "text/plain": [
       "            name  playcount listeners                                  mbid  \\\n",
       "0     The Weeknd  153634045   1824106  c8b03190-306c-4120-bb0b-6f2ebfc06ea9   \n",
       "1  Ariana Grande  216988104   1582351  f4fdbb4c-e4b7-47a0-b83b-d91bbfcfa387   \n",
       "2  Billie Eilish   84538250   1053946                                         \n",
       "3   Taylor Swift  355213822   2679563  20244d07-534f-4eff-b4d4-930878889970   \n",
       "4     Kanye West  334682735   4797370  164f0d73-1234-4e2c-8743-d77bf2191051   \n",
       "\n",
       "                                       url streamable  \\\n",
       "0     https://www.last.fm/music/The+Weeknd          0   \n",
       "1  https://www.last.fm/music/Ariana+Grande          0   \n",
       "2  https://www.last.fm/music/Billie+Eilish          0   \n",
       "3   https://www.last.fm/music/Taylor+Swift          0   \n",
       "4     https://www.last.fm/music/Kanye+West          0   \n",
       "\n",
       "                                               image  \n",
       "0  [{'#text': 'https://lastfm.freetls.fastly.net/...  \n",
       "1  [{'#text': 'https://lastfm.freetls.fastly.net/...  \n",
       "2  [{'#text': 'https://lastfm.freetls.fastly.net/...  \n",
       "3  [{'#text': 'https://lastfm.freetls.fastly.net/...  \n",
       "4  [{'#text': 'https://lastfm.freetls.fastly.net/...  "
      ]
     },
     "execution_count": 12,
     "metadata": {},
     "output_type": "execute_result"
    }
   ],
   "source": [
    "# method 1: using list comprehension:\n",
    "frames = [pd.DataFrame(r.json()['artists']['artist']) for r in responses]\n",
    "artists = pd.concat(frames)\n",
    "artists.head()"
   ]
  },
  {
   "cell_type": "code",
   "execution_count": 13,
   "id": "powerful-marketing",
   "metadata": {},
   "outputs": [
    {
     "data": {
      "text/html": [
       "<div>\n",
       "<style scoped>\n",
       "    .dataframe tbody tr th:only-of-type {\n",
       "        vertical-align: middle;\n",
       "    }\n",
       "\n",
       "    .dataframe tbody tr th {\n",
       "        vertical-align: top;\n",
       "    }\n",
       "\n",
       "    .dataframe thead th {\n",
       "        text-align: right;\n",
       "    }\n",
       "</style>\n",
       "<table border=\"1\" class=\"dataframe\">\n",
       "  <thead>\n",
       "    <tr style=\"text-align: right;\">\n",
       "      <th></th>\n",
       "      <th>name</th>\n",
       "      <th>playcount</th>\n",
       "      <th>listeners</th>\n",
       "      <th>mbid</th>\n",
       "      <th>url</th>\n",
       "      <th>streamable</th>\n",
       "      <th>image</th>\n",
       "    </tr>\n",
       "  </thead>\n",
       "  <tbody>\n",
       "    <tr>\n",
       "      <th>0</th>\n",
       "      <td>The Weeknd</td>\n",
       "      <td>153634045</td>\n",
       "      <td>1824106</td>\n",
       "      <td>c8b03190-306c-4120-bb0b-6f2ebfc06ea9</td>\n",
       "      <td>https://www.last.fm/music/The+Weeknd</td>\n",
       "      <td>0</td>\n",
       "      <td>[{'#text': 'https://lastfm.freetls.fastly.net/...</td>\n",
       "    </tr>\n",
       "    <tr>\n",
       "      <th>1</th>\n",
       "      <td>Ariana Grande</td>\n",
       "      <td>216988104</td>\n",
       "      <td>1582351</td>\n",
       "      <td>f4fdbb4c-e4b7-47a0-b83b-d91bbfcfa387</td>\n",
       "      <td>https://www.last.fm/music/Ariana+Grande</td>\n",
       "      <td>0</td>\n",
       "      <td>[{'#text': 'https://lastfm.freetls.fastly.net/...</td>\n",
       "    </tr>\n",
       "    <tr>\n",
       "      <th>2</th>\n",
       "      <td>Billie Eilish</td>\n",
       "      <td>84538250</td>\n",
       "      <td>1053946</td>\n",
       "      <td></td>\n",
       "      <td>https://www.last.fm/music/Billie+Eilish</td>\n",
       "      <td>0</td>\n",
       "      <td>[{'#text': 'https://lastfm.freetls.fastly.net/...</td>\n",
       "    </tr>\n",
       "    <tr>\n",
       "      <th>3</th>\n",
       "      <td>Taylor Swift</td>\n",
       "      <td>355213822</td>\n",
       "      <td>2679563</td>\n",
       "      <td>20244d07-534f-4eff-b4d4-930878889970</td>\n",
       "      <td>https://www.last.fm/music/Taylor+Swift</td>\n",
       "      <td>0</td>\n",
       "      <td>[{'#text': 'https://lastfm.freetls.fastly.net/...</td>\n",
       "    </tr>\n",
       "    <tr>\n",
       "      <th>4</th>\n",
       "      <td>Kanye West</td>\n",
       "      <td>334682735</td>\n",
       "      <td>4797370</td>\n",
       "      <td>164f0d73-1234-4e2c-8743-d77bf2191051</td>\n",
       "      <td>https://www.last.fm/music/Kanye+West</td>\n",
       "      <td>0</td>\n",
       "      <td>[{'#text': 'https://lastfm.freetls.fastly.net/...</td>\n",
       "    </tr>\n",
       "  </tbody>\n",
       "</table>\n",
       "</div>"
      ],
      "text/plain": [
       "            name  playcount listeners                                  mbid  \\\n",
       "0     The Weeknd  153634045   1824106  c8b03190-306c-4120-bb0b-6f2ebfc06ea9   \n",
       "1  Ariana Grande  216988104   1582351  f4fdbb4c-e4b7-47a0-b83b-d91bbfcfa387   \n",
       "2  Billie Eilish   84538250   1053946                                         \n",
       "3   Taylor Swift  355213822   2679563  20244d07-534f-4eff-b4d4-930878889970   \n",
       "4     Kanye West  334682735   4797370  164f0d73-1234-4e2c-8743-d77bf2191051   \n",
       "\n",
       "                                       url streamable  \\\n",
       "0     https://www.last.fm/music/The+Weeknd          0   \n",
       "1  https://www.last.fm/music/Ariana+Grande          0   \n",
       "2  https://www.last.fm/music/Billie+Eilish          0   \n",
       "3   https://www.last.fm/music/Taylor+Swift          0   \n",
       "4     https://www.last.fm/music/Kanye+West          0   \n",
       "\n",
       "                                               image  \n",
       "0  [{'#text': 'https://lastfm.freetls.fastly.net/...  \n",
       "1  [{'#text': 'https://lastfm.freetls.fastly.net/...  \n",
       "2  [{'#text': 'https://lastfm.freetls.fastly.net/...  \n",
       "3  [{'#text': 'https://lastfm.freetls.fastly.net/...  \n",
       "4  [{'#text': 'https://lastfm.freetls.fastly.net/...  "
      ]
     },
     "execution_count": 13,
     "metadata": {},
     "output_type": "execute_result"
    }
   ],
   "source": [
    "# method 2: using for-loop\n",
    "temp = []\n",
    "for i in responses:\n",
    "    temp.append(pd.DataFrame(i.json()['artists']['artist']))\n",
    "df1 = pd.concat(temp)\n",
    "df1.head()"
   ]
  },
  {
   "cell_type": "code",
   "execution_count": 14,
   "id": "prompt-sweet",
   "metadata": {},
   "outputs": [
    {
     "name": "stdout",
     "output_type": "stream",
     "text": [
      "(12000, 7) (12000, 7)\n"
     ]
    }
   ],
   "source": [
    "print(df1.shape, artists.shape)"
   ]
  },
  {
   "cell_type": "markdown",
   "id": "advance-testing",
   "metadata": {},
   "source": [
    "### Exploratory Data Analysis\n",
    "1. Remove unwanted columns\n",
    "2. check data\n",
    "\n",
    "### Modeling\n",
    "save frame and using in any modeling projects...Happy Analyzing!"
   ]
  },
  {
   "cell_type": "code",
   "execution_count": 15,
   "id": "fabulous-helmet",
   "metadata": {},
   "outputs": [
    {
     "data": {
      "text/html": [
       "<div>\n",
       "<style scoped>\n",
       "    .dataframe tbody tr th:only-of-type {\n",
       "        vertical-align: middle;\n",
       "    }\n",
       "\n",
       "    .dataframe tbody tr th {\n",
       "        vertical-align: top;\n",
       "    }\n",
       "\n",
       "    .dataframe thead th {\n",
       "        text-align: right;\n",
       "    }\n",
       "</style>\n",
       "<table border=\"1\" class=\"dataframe\">\n",
       "  <thead>\n",
       "    <tr style=\"text-align: right;\">\n",
       "      <th></th>\n",
       "      <th>name</th>\n",
       "      <th>playcount</th>\n",
       "      <th>listeners</th>\n",
       "      <th>mbid</th>\n",
       "      <th>url</th>\n",
       "      <th>streamable</th>\n",
       "    </tr>\n",
       "  </thead>\n",
       "  <tbody>\n",
       "    <tr>\n",
       "      <th>0</th>\n",
       "      <td>The Weeknd</td>\n",
       "      <td>153634045</td>\n",
       "      <td>1824106</td>\n",
       "      <td>c8b03190-306c-4120-bb0b-6f2ebfc06ea9</td>\n",
       "      <td>https://www.last.fm/music/The+Weeknd</td>\n",
       "      <td>0</td>\n",
       "    </tr>\n",
       "    <tr>\n",
       "      <th>1</th>\n",
       "      <td>Ariana Grande</td>\n",
       "      <td>216988104</td>\n",
       "      <td>1582351</td>\n",
       "      <td>f4fdbb4c-e4b7-47a0-b83b-d91bbfcfa387</td>\n",
       "      <td>https://www.last.fm/music/Ariana+Grande</td>\n",
       "      <td>0</td>\n",
       "    </tr>\n",
       "    <tr>\n",
       "      <th>2</th>\n",
       "      <td>Billie Eilish</td>\n",
       "      <td>84538250</td>\n",
       "      <td>1053946</td>\n",
       "      <td></td>\n",
       "      <td>https://www.last.fm/music/Billie+Eilish</td>\n",
       "      <td>0</td>\n",
       "    </tr>\n",
       "    <tr>\n",
       "      <th>3</th>\n",
       "      <td>Taylor Swift</td>\n",
       "      <td>355213822</td>\n",
       "      <td>2679563</td>\n",
       "      <td>20244d07-534f-4eff-b4d4-930878889970</td>\n",
       "      <td>https://www.last.fm/music/Taylor+Swift</td>\n",
       "      <td>0</td>\n",
       "    </tr>\n",
       "    <tr>\n",
       "      <th>4</th>\n",
       "      <td>Kanye West</td>\n",
       "      <td>334682735</td>\n",
       "      <td>4797370</td>\n",
       "      <td>164f0d73-1234-4e2c-8743-d77bf2191051</td>\n",
       "      <td>https://www.last.fm/music/Kanye+West</td>\n",
       "      <td>0</td>\n",
       "    </tr>\n",
       "  </tbody>\n",
       "</table>\n",
       "</div>"
      ],
      "text/plain": [
       "            name  playcount listeners                                  mbid  \\\n",
       "0     The Weeknd  153634045   1824106  c8b03190-306c-4120-bb0b-6f2ebfc06ea9   \n",
       "1  Ariana Grande  216988104   1582351  f4fdbb4c-e4b7-47a0-b83b-d91bbfcfa387   \n",
       "2  Billie Eilish   84538250   1053946                                         \n",
       "3   Taylor Swift  355213822   2679563  20244d07-534f-4eff-b4d4-930878889970   \n",
       "4     Kanye West  334682735   4797370  164f0d73-1234-4e2c-8743-d77bf2191051   \n",
       "\n",
       "                                       url streamable  \n",
       "0     https://www.last.fm/music/The+Weeknd          0  \n",
       "1  https://www.last.fm/music/Ariana+Grande          0  \n",
       "2  https://www.last.fm/music/Billie+Eilish          0  \n",
       "3   https://www.last.fm/music/Taylor+Swift          0  \n",
       "4     https://www.last.fm/music/Kanye+West          0  "
      ]
     },
     "execution_count": 15,
     "metadata": {},
     "output_type": "execute_result"
    }
   ],
   "source": [
    "# drop images\n",
    "artists = artists.drop('image', axis=1)\n",
    "artists.head()"
   ]
  },
  {
   "cell_type": "code",
   "execution_count": 16,
   "id": "personal-probability",
   "metadata": {},
   "outputs": [
    {
     "name": "stdout",
     "output_type": "stream",
     "text": [
      "<class 'pandas.core.frame.DataFrame'>\n",
      "Int64Index: 12000 entries, 0 to 499\n",
      "Data columns (total 6 columns):\n",
      " #   Column      Non-Null Count  Dtype \n",
      "---  ------      --------------  ----- \n",
      " 0   name        12000 non-null  object\n",
      " 1   playcount   12000 non-null  object\n",
      " 2   listeners   12000 non-null  object\n",
      " 3   mbid        12000 non-null  object\n",
      " 4   url         12000 non-null  object\n",
      " 5   streamable  12000 non-null  object\n",
      "dtypes: object(6)\n",
      "memory usage: 656.2+ KB\n"
     ]
    }
   ],
   "source": [
    "artists.info()"
   ]
  },
  {
   "cell_type": "code",
   "execution_count": 17,
   "id": "supreme-moment",
   "metadata": {
    "scrolled": true
   },
   "outputs": [
    {
     "data": {
      "text/html": [
       "<div>\n",
       "<style scoped>\n",
       "    .dataframe tbody tr th:only-of-type {\n",
       "        vertical-align: middle;\n",
       "    }\n",
       "\n",
       "    .dataframe tbody tr th {\n",
       "        vertical-align: top;\n",
       "    }\n",
       "\n",
       "    .dataframe thead th {\n",
       "        text-align: right;\n",
       "    }\n",
       "</style>\n",
       "<table border=\"1\" class=\"dataframe\">\n",
       "  <thead>\n",
       "    <tr style=\"text-align: right;\">\n",
       "      <th></th>\n",
       "      <th>name</th>\n",
       "      <th>playcount</th>\n",
       "      <th>listeners</th>\n",
       "      <th>mbid</th>\n",
       "      <th>url</th>\n",
       "      <th>streamable</th>\n",
       "    </tr>\n",
       "  </thead>\n",
       "  <tbody>\n",
       "    <tr>\n",
       "      <th>count</th>\n",
       "      <td>12000</td>\n",
       "      <td>12000</td>\n",
       "      <td>12000</td>\n",
       "      <td>12000</td>\n",
       "      <td>12000</td>\n",
       "      <td>12000</td>\n",
       "    </tr>\n",
       "    <tr>\n",
       "      <th>unique</th>\n",
       "      <td>9950</td>\n",
       "      <td>9945</td>\n",
       "      <td>9817</td>\n",
       "      <td>6442</td>\n",
       "      <td>9950</td>\n",
       "      <td>1</td>\n",
       "    </tr>\n",
       "    <tr>\n",
       "      <th>top</th>\n",
       "      <td>Pinegrove</td>\n",
       "      <td>4979139</td>\n",
       "      <td>22307</td>\n",
       "      <td></td>\n",
       "      <td>https://www.last.fm/music/Black+Eyed+Peas</td>\n",
       "      <td>0</td>\n",
       "    </tr>\n",
       "    <tr>\n",
       "      <th>freq</th>\n",
       "      <td>2</td>\n",
       "      <td>2</td>\n",
       "      <td>4</td>\n",
       "      <td>4100</td>\n",
       "      <td>2</td>\n",
       "      <td>12000</td>\n",
       "    </tr>\n",
       "  </tbody>\n",
       "</table>\n",
       "</div>"
      ],
      "text/plain": [
       "             name playcount listeners   mbid  \\\n",
       "count       12000     12000     12000  12000   \n",
       "unique       9950      9945      9817   6442   \n",
       "top     Pinegrove   4979139     22307          \n",
       "freq            2         2         4   4100   \n",
       "\n",
       "                                              url streamable  \n",
       "count                                       12000      12000  \n",
       "unique                                       9950          1  \n",
       "top     https://www.last.fm/music/Black+Eyed+Peas          0  \n",
       "freq                                            2      12000  "
      ]
     },
     "execution_count": 17,
     "metadata": {},
     "output_type": "execute_result"
    }
   ],
   "source": [
    "artists.describe()"
   ]
  },
  {
   "cell_type": "markdown",
   "id": "ideal-church",
   "metadata": {},
   "source": [
    "We were expecting about 3,000,000 artists but we only have 10,500. Of those, only 10,000 are unique (eg there are duplicates).\n",
    "\n",
    "Let’s let’s look at the length of the list of artists across our list of response objects to see if we can better understand what has gone wrong."
   ]
  },
  {
   "cell_type": "code",
   "execution_count": 18,
   "id": "pharmaceutical-documentation",
   "metadata": {},
   "outputs": [
    {
     "data": {
      "text/plain": [
       "0       7790\n",
       "500       16\n",
       "1000       4\n",
       "dtype: int64"
      ]
     },
     "execution_count": 18,
     "metadata": {},
     "output_type": "execute_result"
    }
   ],
   "source": [
    "artist_counts = [len(r.json()['artists']['artist']) for r in responses]\n",
    "pd.Series(artist_counts).value_counts()"
   ]
  },
  {
   "cell_type": "markdown",
   "id": "instructional-rouge",
   "metadata": {},
   "source": [
    "It looks like only twenty of our requests had a list of responses – let’s look at the first fifty in order and see if there’s a pattern."
   ]
  },
  {
   "cell_type": "code",
   "execution_count": 19,
   "id": "second-rehabilitation",
   "metadata": {},
   "outputs": [
    {
     "name": "stdout",
     "output_type": "stream",
     "text": [
      "[500, 1000, 500, 1000, 500, 1000, 500, 1000, 500, 500, 500, 500, 500, 500, 500, 500, 500, 500, 500, 500, 0, 0, 0, 0, 0, 0, 0, 0, 0, 0, 0, 0, 0, 0, 0, 0, 0, 0, 0, 0, 0, 0, 0, 0, 0, 0, 0, 0, 0, 0]\n"
     ]
    }
   ],
   "source": [
    "print(artist_counts[:50])"
   ]
  },
  {
   "cell_type": "markdown",
   "id": "instrumental-nightlife",
   "metadata": {},
   "source": [
    "It looks like after the first twenty responses, this API doesn’t return any data — an undocumented limitation."
   ]
  }
 ],
 "metadata": {
  "kernelspec": {
   "display_name": "Python 3",
   "language": "python",
   "name": "python3"
  },
  "language_info": {
   "codemirror_mode": {
    "name": "ipython",
    "version": 3
   },
   "file_extension": ".py",
   "mimetype": "text/x-python",
   "name": "python",
   "nbconvert_exporter": "python",
   "pygments_lexer": "ipython3",
   "version": "3.8.5"
  }
 },
 "nbformat": 4,
 "nbformat_minor": 5
}
